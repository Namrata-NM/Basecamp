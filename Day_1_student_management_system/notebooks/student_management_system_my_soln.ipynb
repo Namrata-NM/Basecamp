{
 "cells": [
  {
   "cell_type": "markdown",
   "metadata": {},
   "source": [
    "## Problem Statement\n",
    "\n",
    "You have been hired by the University of Data Science to manage their students' records.  Your job is to create the student management system for the university. Let's try to build the system using basic Python operations.\n",
    "\n",
    "\n",
    "## Why solve this project?\n",
    "\n",
    "After completing this project, you will get to know how to solve basic Python problems. In this project, you will be applying the following concepts:\n",
    "\n",
    "* Mathematical operations\n",
    "* List operations\n",
    "* Dictionary operations \n",
    "* String indexing and formatting"
   ]
  },
  {
   "cell_type": "markdown",
   "metadata": {},
   "source": [
    "### Student Management System\n",
    "\n",
    "**Managing Student Information effectively**\n",
    "\n",
    "Information needed:\n",
    "1. Name\n",
    "2. DOB\n",
    "3. Gender\n",
    "4. Course Name\n",
    "5. Phone No\n",
    "6. Email\n",
    "7. Admission No\n",
    "8. Student ID\n",
    "9. Highest Qualification\n",
    "10. Course Mode\n",
    "\n",
    "Operations to be performed\n",
    "\n",
    "1. Enter the details\n",
    "2. Modify the details\n",
    "3. Delete the details\n",
    "4. Search the details\n",
    "5. Basic analysis\n",
    "6. Add new information\n",
    "7. Getting Reports\n"
   ]
  },
  {
   "cell_type": "markdown",
   "metadata": {},
   "source": [
    "### Task 1\n",
    "\n",
    "**Let's create a new register by combining data from two classes while making some modifications to the register.\n",
    "Instructions:**\n",
    "\n",
    "   * Create a 'class_1' list and pass the elements 'Geoffrey Hinton','Andrew Ng','Sebastian Raschka','Yoshua Bengio'.\n",
    "\n",
    "   * Create a 'class_2' list and pass the elements 'Hilary Mason','Carla Gentry','Corinna Cortes'.\n",
    "\n",
    "   * Concatenate the 'class_1' and 'class_2' list. Store the values in a'new_class' variable.\n",
    "\n",
    "   * Print the 'new_class' variable to see the new list.\n",
    "\n",
    "You can now see the students list.\n"
   ]
  },
  {
   "cell_type": "code",
   "execution_count": 1,
   "metadata": {},
   "outputs": [],
   "source": [
    "class_1 = [ 'Geoffrey Hinton','Andrew Ng','Sebastian Raschka','Yoshua Bengio']\n",
    "class_2 = [ 'Hilary Mason','Carla Gentry','Corinna Cortes']"
   ]
  },
  {
   "cell_type": "code",
   "execution_count": 4,
   "metadata": {},
   "outputs": [],
   "source": [
    "#adding_method\n",
    "class_3 = ['Geoffrey Hinton','Andrew Ng','Sebastian Raschka','Yoshua Bengio']\n",
    "temp_class = [1,2,3]\n",
    "temp_class.extend(class_3)  #to add elements of some list\n",
    "temp_class"
   ]
  },
  {
   "cell_type": "code",
   "execution_count": 7,
   "metadata": {},
   "outputs": [
    {
     "data": {
      "text/plain": [
       "['Geoffrey Hinton',\n",
       " 'Andrew Ng',\n",
       " 'Sebastian Raschka',\n",
       " 'Yoshua Bengio',\n",
       " 'Hilary Mason',\n",
       " 'Carla Gentry',\n",
       " 'Corinna Cortes']"
      ]
     },
     "execution_count": 7,
     "metadata": {},
     "output_type": "execute_result"
    }
   ],
   "source": [
    "new_class = class_1 + class_2\n",
    "new_class"
   ]
  },
  {
   "cell_type": "markdown",
   "metadata": {},
   "source": [
    "### Task 2\n",
    "\n",
    "Oops! Looks like we might have missed a student whose name is Peter Warden. Let's add him in the new register.\n",
    "\n",
    "   * Add new element 'Peter Warden' in the 'new_class' list.\n",
    "\n",
    "   * Print 'new_class' to see the updated list.\n"
   ]
  },
  {
   "cell_type": "code",
   "execution_count": 8,
   "metadata": {},
   "outputs": [
    {
     "data": {
      "text/plain": [
       "['Geoffrey Hinton',\n",
       " 'Andrew Ng',\n",
       " 'Sebastian Raschka',\n",
       " 'Yoshua Bengio',\n",
       " 'Hilary Mason',\n",
       " 'Carla Gentry',\n",
       " 'Corinna Cortes',\n",
       " 'Peter Warden']"
      ]
     },
     "execution_count": 8,
     "metadata": {},
     "output_type": "execute_result"
    }
   ],
   "source": [
    "new_class.append('Peter Warden')\n"
   ]
  },
  {
   "cell_type": "code",
   "execution_count": 9,
   "metadata": {},
   "outputs": [
    {
     "data": {
      "text/plain": [
       "['Geoffrey Hinton',\n",
       " 'Andrew Ng',\n",
       " 'Sebastian Raschka',\n",
       " 'Yoshua Bengio',\n",
       " 'Hilary Mason',\n",
       " 'Carla Gentry',\n",
       " 'Corinna Cortes',\n",
       " 'Peter Warden']"
      ]
     },
     "execution_count": 9,
     "metadata": {},
     "output_type": "execute_result"
    }
   ],
   "source": [
    "new_class"
   ]
  },
  {
   "cell_type": "markdown",
   "metadata": {},
   "source": [
    "### Task 3\n",
    "\n",
    "It seems like there could also be a wrong entry in the list whose name is Carla Gentry. Let's remove her from the register.\n",
    "\n",
    "   * Remove the 'Carla Gentry'element from the 'new_class' list.\n",
    "\n",
    "   * Print 'new_class' to see the updated list.\n"
   ]
  },
  {
   "cell_type": "code",
   "execution_count": 12,
   "metadata": {},
   "outputs": [],
   "source": [
    "new_class.remove('Carla Gentry')"
   ]
  },
  {
   "cell_type": "code",
   "execution_count": 13,
   "metadata": {},
   "outputs": [
    {
     "data": {
      "text/plain": [
       "['Geoffrey Hinton',\n",
       " 'Andrew Ng',\n",
       " 'Sebastian Raschka',\n",
       " 'Yoshua Bengio',\n",
       " 'Hilary Mason',\n",
       " 'Corinna Cortes',\n",
       " 'Peter Warden']"
      ]
     },
     "execution_count": 13,
     "metadata": {},
     "output_type": "execute_result"
    }
   ],
   "source": [
    "new_class"
   ]
  },
  {
   "cell_type": "code",
   "execution_count": 14,
   "metadata": {},
   "outputs": [
    {
     "data": {
      "text/plain": [
       "['Geoffrey Hinton',\n",
       " 'Andrew Ng',\n",
       " 'Sebastian Raschka',\n",
       " 'Yoshua Bengio',\n",
       " 'Hilary Mason',\n",
       " 'Corinna Cortes',\n",
       " 'Peter Warden',\n",
       " 'Geoffrey Hinton',\n",
       " 'Andrew Ng',\n",
       " 'Sebastian Raschka',\n",
       " 'Yoshua Bengio',\n",
       " 'Hilary Mason',\n",
       " 'Corinna Cortes',\n",
       " 'Peter Warden',\n",
       " 'Geoffrey Hinton',\n",
       " 'Andrew Ng',\n",
       " 'Sebastian Raschka',\n",
       " 'Yoshua Bengio',\n",
       " 'Hilary Mason',\n",
       " 'Corinna Cortes',\n",
       " 'Peter Warden']"
      ]
     },
     "execution_count": 14,
     "metadata": {},
     "output_type": "execute_result"
    }
   ],
   "source": [
    "#Remove duplicates\n",
    "dup=new_class*3\n",
    "dup"
   ]
  },
  {
   "cell_type": "code",
   "execution_count": 16,
   "metadata": {},
   "outputs": [
    {
     "data": {
      "text/plain": [
       "['Geoffrey Hinton',\n",
       " 'Peter Warden',\n",
       " 'Yoshua Bengio',\n",
       " 'Corinna Cortes',\n",
       " 'Hilary Mason',\n",
       " 'Andrew Ng',\n",
       " 'Sebastian Raschka']"
      ]
     },
     "execution_count": 16,
     "metadata": {},
     "output_type": "execute_result"
    }
   ],
   "source": [
    "#remove duplicates using set\n",
    "\n",
    "removed_list = list (set(dup))\n"
   ]
  },
  {
   "cell_type": "code",
   "execution_count": 17,
   "metadata": {},
   "outputs": [
    {
     "data": {
      "text/plain": [
       "['Geoffrey Hinton',\n",
       " 'Peter Warden',\n",
       " 'Yoshua Bengio',\n",
       " 'Corinna Cortes',\n",
       " 'Hilary Mason',\n",
       " 'Andrew Ng',\n",
       " 'Sebastian Raschka']"
      ]
     },
     "execution_count": 17,
     "metadata": {},
     "output_type": "execute_result"
    }
   ],
   "source": [
    "removed_list"
   ]
  },
  {
   "cell_type": "markdown",
   "metadata": {},
   "source": [
    "### Task 4\n",
    "\n",
    "**Let's create a dictionary for `Geoffrey Hinton` in each subject to generate his progress report.** \n",
    "\n",
    "\n",
    "\n",
    "#### Instructions\n",
    "\n",
    "* Create a dictionary named `'courses'` using the keys and values given below\n",
    "\n",
    "\n",
    "|course|marks|\n",
    "|-----|-----|\n",
    "|Math|65|\n",
    "|English|70|\n",
    "|History|80|\n",
    "|French|70|\n",
    "|Science|60|\n",
    "\n",
    "\n",
    "\n",
    "\n",
    "\n",
    "* See the marks obtained in each subject.\n",
    " \n",
    "* Add all the marks scored out of 100 and store it in a variable named `'total'`.\n",
    "\n",
    "\n",
    "* Print `'total'`.\n",
    "\n",
    "\n",
    "* Calculate the `'percentage'` scored by `'Geoffrey Hinton'` where addition of all the subjects is `500`.\n",
    "\n",
    "\n",
    "* Print the `'percentage'`.\n",
    "\n"
   ]
  },
  {
   "cell_type": "code",
   "execution_count": 19,
   "metadata": {},
   "outputs": [],
   "source": [
    "courses = {\n",
    "    'Math':65,\n",
    "    'English':70,\n",
    "    'History':80,\n",
    "    'French':70,\n",
    "    'Science':60,\n",
    "}"
   ]
  },
  {
   "cell_type": "code",
   "execution_count": 21,
   "metadata": {},
   "outputs": [
    {
     "data": {
      "text/plain": [
       "dict_items([('Math', 65), ('English', 70), ('History', 80), ('French', 70), ('Science', 60)])"
      ]
     },
     "execution_count": 21,
     "metadata": {},
     "output_type": "execute_result"
    }
   ],
   "source": [
    "courses.items()"
   ]
  },
  {
   "cell_type": "code",
   "execution_count": 31,
   "metadata": {},
   "outputs": [
    {
     "data": {
      "text/plain": [
       "[65, 70, 80, 70, 60]"
      ]
     },
     "execution_count": 31,
     "metadata": {},
     "output_type": "execute_result"
    }
   ],
   "source": [
    "#list_comprehension\n",
    "[i for i in courses.values()]"
   ]
  },
  {
   "cell_type": "code",
   "execution_count": 33,
   "metadata": {},
   "outputs": [
    {
     "data": {
      "text/plain": [
       "345"
      ]
     },
     "execution_count": 33,
     "metadata": {},
     "output_type": "execute_result"
    }
   ],
   "source": [
    "total_obtained = sum([i for i in courses.values()])\n",
    "total_obtained"
   ]
  },
  {
   "cell_type": "code",
   "execution_count": 36,
   "metadata": {},
   "outputs": [],
   "source": [
    "percent = (total_obtained/500) * 100"
   ]
  },
  {
   "cell_type": "code",
   "execution_count": 37,
   "metadata": {},
   "outputs": [
    {
     "data": {
      "text/plain": [
       "69.0"
      ]
     },
     "execution_count": 37,
     "metadata": {},
     "output_type": "execute_result"
    }
   ],
   "source": [
    "percent"
   ]
  },
  {
   "cell_type": "markdown",
   "metadata": {},
   "source": [
    "### Task 5\n",
    "\n",
    "**For the student who got the highest marks in this subject, the school has decided to award a scholarship.\n",
    "Let's check who performed best in mathematics from all the students who appeared for the test.**\n",
    "\n",
    "#### Instructions\n",
    "\n",
    "* Create a dictionary named `'mathematics'` using the keys and values given below.\n",
    "\n",
    "\n",
    "|student|marks|\n",
    "|-----|-----|\n",
    "|Geoffrey Hinton|78|\n",
    "|Andrew Ng|95|\n",
    "|Sebastian Raschka|65|\n",
    "|Yoshua Benjio|50|\n",
    "|Hilary Mason|70|\n",
    "|Corinna Cortes|66|\n",
    "|Peter Warden|75|\n",
    "\n",
    "\n",
    "***\n",
    "\n",
    "    Example of max function:\n",
    "\n",
    "~~~python\n",
    "\n",
    "# calculate the max value\n",
    "\n",
    "max_marks_scored = max(courses,key = courses.get)\n",
    "print (max_marks_scored)\n",
    "\n",
    "~~~\n",
    "\n",
    "**Output**\n",
    "\n",
    "~~~python\n",
    "History\n",
    "~~~\n",
    "    \n",
    "\n",
    "***\n",
    "\n",
    "\n",
    "\n",
    "* Find out the student with the highest marks in Mathematics and store it in a variable `'topper'`."
   ]
  },
  {
   "cell_type": "code",
   "execution_count": 39,
   "metadata": {},
   "outputs": [],
   "source": [
    "mathematics = {\n",
    "    'Geoffrey Hinton' : 78,\n",
    "    'Andrew Ng' : 95,\n",
    "    'Sebastian Raschka' : 65,\n",
    "    'Yoshua Benjio': 50,\n",
    "    'Hilary Mason':70,\n",
    "    'Corinna Cortes' : 66,\n",
    "    'Peter Warden' : 75\n",
    "    \n",
    "}"
   ]
  },
  {
   "cell_type": "code",
   "execution_count": 42,
   "metadata": {},
   "outputs": [
    {
     "data": {
      "text/plain": [
       "dict_values([78, 95, 65, 50, 70, 66, 75])"
      ]
     },
     "execution_count": 42,
     "metadata": {},
     "output_type": "execute_result"
    }
   ],
   "source": [
    "mathematics.values()"
   ]
  },
  {
   "cell_type": "code",
   "execution_count": 47,
   "metadata": {},
   "outputs": [],
   "source": [
    "topper= max(mathematics, key = mathematics.get)\n",
    "Max_marks=max(mathematics.values())"
   ]
  },
  {
   "cell_type": "code",
   "execution_count": 50,
   "metadata": {},
   "outputs": [
    {
     "data": {
      "text/plain": [
       "'Andrew Ng'"
      ]
     },
     "execution_count": 50,
     "metadata": {},
     "output_type": "execute_result"
    }
   ],
   "source": [
    "topper"
   ]
  },
  {
   "cell_type": "code",
   "execution_count": 49,
   "metadata": {},
   "outputs": [
    {
     "data": {
      "text/plain": [
       "95"
      ]
     },
     "execution_count": 49,
     "metadata": {},
     "output_type": "execute_result"
    }
   ],
   "source": [
    "Max_marks"
   ]
  },
  {
   "cell_type": "markdown",
   "metadata": {},
   "source": [
    "### Task 6\n",
    "\n",
    "**From the previous task, we know who is the 'Maths' topper in the class. You now have to print the name of the student on the certificate, but you will have to print his last name and then his first name.** \n",
    "\n",
    "\n",
    "## Instructions\n",
    "\n",
    "* String name `'topper'` with the Math topper's name is given.\n",
    "\n",
    "\n",
    "* Split the `'topper'` using the `\"split()\"` function and store the results in `'first_name'` and `'last_name'`.\n",
    "\n",
    "***\n",
    "\n",
    "    Example of split function:\n",
    "\n",
    "~~~python\n",
    "\n",
    "Quote = \" I love data \"\n",
    "\n",
    "# To split the words of a sentence\n",
    "print('-'*20)\n",
    "\n",
    "# To access one word based on index\n",
    "print(Quote.split()[2])\n",
    "\n",
    "~~~\n",
    "\n",
    "**Output**\n",
    "\n",
    "~~~python\n",
    "['I', 'love', 'data']\n",
    "--------------------\n",
    "data\n",
    "\n",
    "~~~\n",
    "\n",
    "    \n",
    "\n",
    "\n",
    "***\n",
    "\n",
    "\n",
    "*  Display the full name concatenating `+` the strings `'last_name'` and `'first_name'` strings. Don't forget to add a whitespace character between them to avoid displaying them together and store it in a `full_name` variable .\n",
    "\n",
    "\n",
    "* Convert all the elements in the `'full_name'`string to uppercase, and store it to the `'certificate_name'` variable.\n",
    "\n",
    "\n",
    "* Print `'certificate_name'`."
   ]
  },
  {
   "cell_type": "code",
   "execution_count": 54,
   "metadata": {},
   "outputs": [],
   "source": [
    "first_name,last_name = topper.split(' ')"
   ]
  },
  {
   "cell_type": "code",
   "execution_count": 57,
   "metadata": {},
   "outputs": [],
   "source": [
    "full_name = last_name + ' ' + first_name"
   ]
  },
  {
   "cell_type": "code",
   "execution_count": 59,
   "metadata": {},
   "outputs": [],
   "source": [
    "certificate_name = full_name.upper()"
   ]
  },
  {
   "cell_type": "code",
   "execution_count": 60,
   "metadata": {},
   "outputs": [
    {
     "name": "stdout",
     "output_type": "stream",
     "text": [
      "Mr NG ANDREW has scored highest marks: 95 in math\n"
     ]
    }
   ],
   "source": [
    "print(f'Mr {certificate_name} has scored highest marks: {Max_marks} in math')"
   ]
  }
 ],
 "metadata": {
  "kernelspec": {
   "display_name": "Python 3",
   "language": "python",
   "name": "python3"
  },
  "language_info": {
   "codemirror_mode": {
    "name": "ipython",
    "version": 3
   },
   "file_extension": ".py",
   "mimetype": "text/x-python",
   "name": "python",
   "nbconvert_exporter": "python",
   "pygments_lexer": "ipython3",
   "version": "3.7.3"
  }
 },
 "nbformat": 4,
 "nbformat_minor": 4
}
